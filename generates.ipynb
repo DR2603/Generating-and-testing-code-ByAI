{
 "cells": [
  {
   "cell_type": "code",
   "execution_count": 1,
   "id": "initial_id",
   "metadata": {
    "collapsed": true,
    "ExecuteTime": {
     "end_time": "2024-06-16T19:35:11.365222Z",
     "start_time": "2024-06-16T19:35:11.302572Z"
    }
   },
   "outputs": [],
   "source": [
    "# make the notebook automatically reload external python modules\n",
    "%load_ext autoreload\n",
    "%autoreload 2"
   ]
  },
  {
   "cell_type": "code",
   "outputs": [
    {
     "name": "stdout",
     "output_type": "stream",
     "text": [
      "Requirement already satisfied: openai in c:\\users\\doron\\desktop\\doron_ba\\03thyear\\ai_developing\\assignments\\ass02\\hw01_204636484\\.venv\\lib\\site-packages (1.34.0)\n",
      "Requirement already satisfied: anyio<5,>=3.5.0 in c:\\users\\doron\\desktop\\doron_ba\\03thyear\\ai_developing\\assignments\\ass02\\hw01_204636484\\.venv\\lib\\site-packages (from openai) (4.4.0)\n",
      "Requirement already satisfied: distro<2,>=1.7.0 in c:\\users\\doron\\desktop\\doron_ba\\03thyear\\ai_developing\\assignments\\ass02\\hw01_204636484\\.venv\\lib\\site-packages (from openai) (1.9.0)\n",
      "Requirement already satisfied: httpx<1,>=0.23.0 in c:\\users\\doron\\desktop\\doron_ba\\03thyear\\ai_developing\\assignments\\ass02\\hw01_204636484\\.venv\\lib\\site-packages (from openai) (0.27.0)\n",
      "Requirement already satisfied: pydantic<3,>=1.9.0 in c:\\users\\doron\\desktop\\doron_ba\\03thyear\\ai_developing\\assignments\\ass02\\hw01_204636484\\.venv\\lib\\site-packages (from openai) (2.7.4)\n",
      "Requirement already satisfied: sniffio in c:\\users\\doron\\desktop\\doron_ba\\03thyear\\ai_developing\\assignments\\ass02\\hw01_204636484\\.venv\\lib\\site-packages (from openai) (1.3.1)\n",
      "Requirement already satisfied: tqdm>4 in c:\\users\\doron\\desktop\\doron_ba\\03thyear\\ai_developing\\assignments\\ass02\\hw01_204636484\\.venv\\lib\\site-packages (from openai) (4.66.4)\n",
      "Requirement already satisfied: typing-extensions<5,>=4.7 in c:\\users\\doron\\desktop\\doron_ba\\03thyear\\ai_developing\\assignments\\ass02\\hw01_204636484\\.venv\\lib\\site-packages (from openai) (4.12.2)\n",
      "Requirement already satisfied: idna>=2.8 in c:\\users\\doron\\desktop\\doron_ba\\03thyear\\ai_developing\\assignments\\ass02\\hw01_204636484\\.venv\\lib\\site-packages (from anyio<5,>=3.5.0->openai) (3.7)\n",
      "Requirement already satisfied: exceptiongroup>=1.0.2 in c:\\users\\doron\\desktop\\doron_ba\\03thyear\\ai_developing\\assignments\\ass02\\hw01_204636484\\.venv\\lib\\site-packages (from anyio<5,>=3.5.0->openai) (1.2.1)\n",
      "Requirement already satisfied: certifi in c:\\users\\doron\\desktop\\doron_ba\\03thyear\\ai_developing\\assignments\\ass02\\hw01_204636484\\.venv\\lib\\site-packages (from httpx<1,>=0.23.0->openai) (2024.6.2)\n",
      "Requirement already satisfied: httpcore==1.* in c:\\users\\doron\\desktop\\doron_ba\\03thyear\\ai_developing\\assignments\\ass02\\hw01_204636484\\.venv\\lib\\site-packages (from httpx<1,>=0.23.0->openai) (1.0.5)\n",
      "Requirement already satisfied: h11<0.15,>=0.13 in c:\\users\\doron\\desktop\\doron_ba\\03thyear\\ai_developing\\assignments\\ass02\\hw01_204636484\\.venv\\lib\\site-packages (from httpcore==1.*->httpx<1,>=0.23.0->openai) (0.14.0)\n",
      "Requirement already satisfied: annotated-types>=0.4.0 in c:\\users\\doron\\desktop\\doron_ba\\03thyear\\ai_developing\\assignments\\ass02\\hw01_204636484\\.venv\\lib\\site-packages (from pydantic<3,>=1.9.0->openai) (0.7.0)\n",
      "Requirement already satisfied: pydantic-core==2.18.4 in c:\\users\\doron\\desktop\\doron_ba\\03thyear\\ai_developing\\assignments\\ass02\\hw01_204636484\\.venv\\lib\\site-packages (from pydantic<3,>=1.9.0->openai) (2.18.4)\n",
      "Requirement already satisfied: colorama in c:\\users\\doron\\desktop\\doron_ba\\03thyear\\ai_developing\\assignments\\ass02\\hw01_204636484\\.venv\\lib\\site-packages (from tqdm>4->openai) (0.4.6)\n",
      "Note: you may need to restart the kernel to use updated packages.\n"
     ]
    }
   ],
   "source": [
    "%pip install openai"
   ],
   "metadata": {
    "collapsed": false,
    "ExecuteTime": {
     "end_time": "2024-06-16T19:35:14.542088Z",
     "start_time": "2024-06-16T19:35:12.187193Z"
    }
   },
   "id": "99bdbba76144753c",
   "execution_count": 2
  },
  {
   "cell_type": "code",
   "outputs": [],
   "source": [
    "from llm import LLM\n",
    "from input_file import Input\n",
    "\n",
    "import json"
   ],
   "metadata": {
    "collapsed": false,
    "ExecuteTime": {
     "end_time": "2024-06-16T19:41:41.128436Z",
     "start_time": "2024-06-16T19:41:41.053585Z"
    }
   },
   "id": "b50bb13ceabf0e19",
   "execution_count": 17
  },
  {
   "cell_type": "code",
   "outputs": [],
   "source": [
    "AZURE_OPENAI_API_KEY='e865ffe4387f416ea57d7394ee09fb2e'\n",
    "AZURE_OPENAI_ENDPOINT='https://openaifor3267.openai.azure.com/'\n",
    "AZURE_OPENAI_API_VERSION = '2023-12-01-preview'\n",
    "MODEL = \"gpt-35-16k\""
   ],
   "metadata": {
    "collapsed": false,
    "ExecuteTime": {
     "end_time": "2024-06-16T19:41:41.998055Z",
     "start_time": "2024-06-16T19:41:41.928838Z"
    }
   },
   "id": "95631a69a1341569",
   "execution_count": 18
  },
  {
   "cell_type": "code",
   "outputs": [],
   "source": [
    "llm = LLM(AZURE_OPENAI_API_KEY, AZURE_OPENAI_ENDPOINT, AZURE_OPENAI_API_VERSION, MODEL)"
   ],
   "metadata": {
    "collapsed": false,
    "ExecuteTime": {
     "end_time": "2024-06-16T19:41:42.981159Z",
     "start_time": "2024-06-16T19:41:42.848244Z"
    }
   },
   "id": "2415367a6fbe0b75",
   "execution_count": 19
  },
  {
   "cell_type": "code",
   "outputs": [],
   "source": [
    "# Program flow - steps 1 and 3\n",
    "input_file = Input('input.txt')"
   ],
   "metadata": {
    "collapsed": false,
    "ExecuteTime": {
     "end_time": "2024-06-16T19:41:44.087171Z",
     "start_time": "2024-06-16T19:41:44.006889Z"
    }
   },
   "id": "9dba5c3dfa7c92d1",
   "execution_count": 20
  },
  {
   "cell_type": "code",
   "outputs": [],
   "source": [
    "class SampleServices:\n",
    "    \"\"\" Implementation of program flow parts relating to a single sample \"\"\"\n",
    "\n",
    "    UNIT_TESTS_OUTPUT_VAR = 'unit_tests_output'\n",
    "\n",
    "    def __init__(self, input_test: Input):\n",
    "        self.input = input_test\n",
    "        self.unit_tests_code = f'\\n\\n{SampleServices.UNIT_TESTS_OUTPUT_VAR} = [\\n\\t' + \\\n",
    "                               ',\\n\\t'.join(input_test.unit_tests) + \\\n",
    "                               '\\n]'\n",
    "        self.n_unit_tests = len(input_test.unit_tests)\n",
    "\n",
    "    def add_unit_tests(self, sample: str) -> str:\n",
    "        \"\"\" Step 6 \"\"\"\n",
    "        return sample + self.unit_tests_code\n",
    "\n",
    "    def save_sample(self, sample: str, filename_format: str, sample_number, temperature) -> str:\n",
    "        \"\"\" Step 7 \"\"\"\n",
    "        filename = filename_format.format(name=self.input.name, sample_number = sample_number + 1, temp = int(temperature*10))\n",
    "        with open(filename, \"w\") as f_sample:\n",
    "            f_sample.write(sample)\n",
    "        return filename\n",
    "\n",
    "    def test_sample(self, sample: str, filename: str) -> int:\n",
    "        \"\"\" Step 8\n",
    "        Returns number of passed unit tests\n",
    "        \"\"\"\n",
    "        try:\n",
    "            local_vars = {}  # isolate from current program\n",
    "            exec(sample, local_vars, local_vars)  # may print if generated code includes prints (or have other side effects)\n",
    "            unit_tests_output = local_vars[SampleServices.UNIT_TESTS_OUTPUT_VAR]\n",
    "        except Exception as ex:\n",
    "            print(f'Running generated code {filename} failed: {ex}')\n",
    "            return 0\n",
    "\n",
    "        assert len(unit_tests_output) == len(self.input.ground_truth), 'Wrong number of unit tests run'\n",
    "        # Count number of tests which returned correct result\n",
    "        n_passed_tests = sum(1 for actual, expected in zip(unit_tests_output, self.input.ground_truth) if str(actual) == expected)\n",
    "        return n_passed_tests\n",
    "\n",
    "    def append_stats(self, f, insert: str, n_passed_tests: int):\n",
    "        \"\"\" Step 9 \"\"\"\n",
    "        f.write(f'passed_{insert}_examples={n_passed_tests}\\n'\n",
    "                f'failed_{insert}_examples={self.n_unit_tests - n_passed_tests}\\n'\n",
    "                f'average_{insert}_examples={(n_passed_tests / self.n_unit_tests):.2f}\\n\\n')"
   ],
   "metadata": {
    "collapsed": false,
    "ExecuteTime": {
     "end_time": "2024-06-16T19:41:45.352543Z",
     "start_time": "2024-06-16T19:41:45.238201Z"
    }
   },
   "id": "a43a158f8e9963ce",
   "execution_count": 21
  },
  {
   "cell_type": "code",
   "outputs": [],
   "source": [
    "sample_svc = SampleServices(input_file)"
   ],
   "metadata": {
    "collapsed": false,
    "ExecuteTime": {
     "end_time": "2024-06-16T19:41:46.213751Z",
     "start_time": "2024-06-16T19:41:46.143527Z"
    }
   },
   "id": "d09c1d1bb355cb8",
   "execution_count": 22
  },
  {
   "cell_type": "code",
   "outputs": [
    {
     "name": "stdout",
     "output_type": "stream",
     "text": [
      "BASIC PROMPT:\n",
      "Generate complete and correct code implementing the Python function below. Code only, not extra strings or explanations please. Comment extensively inside the code.\n",
      "Function name: \"sqrt_list\".\n",
      "Function signature: sqrt_list(l:list) -> float\n",
      "Function description: A function named sqrt_list that takes a list of integer and returns the square root of the sum of that list, to two decimal places.\n"
     ]
    }
   ],
   "source": [
    "# For Step 5 - just instruct LLM to ensure no trailing or leading text\n",
    "SYSTEM_CONTENT_NO_EXAMPLES  = 'Generate complete and correct code implementing the Python function below. Code only, not extra strings or explanations please. Comment extensively inside the code.'\n",
    "user_content_no_examples = f'Function name: \\\"{input_file.name}\\\".\\n' \\\n",
    "                           f'Function signature: {input_file.signature}\\n' \\\n",
    "                           f'Function description: {input_file.description}'\n",
    "\n",
    "FILENAME_FORMAT_NO_EXAMPLES = '{name}-s{sample_number}-t{temp}.py'\n",
    "\n",
    "print(f'BASIC PROMPT:\\n{SYSTEM_CONTENT_NO_EXAMPLES}\\n{user_content_no_examples}')"
   ],
   "metadata": {
    "collapsed": false,
    "ExecuteTime": {
     "end_time": "2024-06-16T19:41:47.063595Z",
     "start_time": "2024-06-16T19:41:46.979263Z"
    }
   },
   "id": "3e73b4df1c71c5e1",
   "execution_count": 23
  },
  {
   "cell_type": "code",
   "outputs": [
    {
     "name": "stdout",
     "output_type": "stream",
     "text": [
      "PROMPT WITH EXAMPLES:\n",
      "Generate complete and correct code implementing the Python function below. Code only, not extra strings or explanations please. Comment extensively inside the code. Be sure that provided examples pass.\n",
      "Function name: \"sqrt_list\".\n",
      "Function signature: sqrt_list(l:list) -> float\n",
      "Function description: A function named sqrt_list that takes a list of integer and returns the square root of the sum of that list, to two decimal places.\n",
      "Examples:\n",
      "sqrt_list([6,18,7,5]) must return 6.0,\n",
      "sqrt_list([50,2,33,8,4,3,10]) must return 10.48.\n"
     ]
    }
   ],
   "source": [
    "# Step 4\n",
    "SYSTEM_CONTENT_WITH_EXAMPLES  = f'{SYSTEM_CONTENT_NO_EXAMPLES} Be sure that provided examples pass.'\n",
    "\n",
    "unit_tests_to_text = ',\\n'.join(f'{unit_test} must return {ground_truth}' for unit_test, ground_truth in zip(input_file.unit_tests, input_file.ground_truth))\n",
    "user_content_with_examples = f'{user_content_no_examples}\\nExamples:\\n{unit_tests_to_text}.'\n",
    "\n",
    "FILENAME_FORMAT_WITH_EXAMPLES = '{name}-ex-s{sample_number}-t{temp}.py'\n",
    "\n",
    "print(f'PROMPT WITH EXAMPLES:\\n{SYSTEM_CONTENT_WITH_EXAMPLES}\\n{user_content_with_examples}')"
   ],
   "metadata": {
    "collapsed": false,
    "ExecuteTime": {
     "end_time": "2024-06-16T19:41:47.777660Z",
     "start_time": "2024-06-16T19:41:47.693657Z"
    }
   },
   "id": "3a193a5dfa78aa3c",
   "execution_count": 24
  },
  {
   "cell_type": "code",
   "outputs": [],
   "source": [
    "def prompt_flow(system_content: str, user_content: str, temperature: float, filename_format: str, insert: str, file_stats):\n",
    "    \"\"\" Program flow for 1 temperature and 1 prompt\"\"\"\n",
    "    generated_samples = llm.invoke(system_content, user_content, temperature, input_file.k)\n",
    "    for sample_number, sample in enumerate(generated_samples):\n",
    "        # 9\n",
    "        file_stats.write(f'LLM={llm.model}\\n'\n",
    "                      f'temperature={temperature}\\n')\n",
    "        # 6\n",
    "        p = sample_svc.add_unit_tests(sample)\n",
    "        # 7\n",
    "        sample_filename = sample_svc.save_sample(p, filename_format, sample_number=sample_number + 1, temperature=temperature)\n",
    "        # 8\n",
    "        n_passed_tests = sample_svc.test_sample(p, sample_filename)\n",
    "        # 9\n",
    "        sample_svc.append_stats(file_stats, insert, n_passed_tests)"
   ],
   "metadata": {
    "collapsed": false,
    "ExecuteTime": {
     "end_time": "2024-06-16T19:41:48.563274Z",
     "start_time": "2024-06-16T19:41:48.494432Z"
    }
   },
   "id": "a287532b068d15ef",
   "execution_count": 25
  },
  {
   "cell_type": "code",
   "outputs": [],
   "source": [
    "# RUN THE PROGRAM FLOW\n",
    "with open(f'{input_file.name}-stats.txt', 'w') as f_stats:\n",
    "    for t in input_file.temperatures:\n",
    "        prompt_flow(SYSTEM_CONTENT_NO_EXAMPLES, user_content_no_examples, t, FILENAME_FORMAT_NO_EXAMPLES, \"without\", f_stats)\n",
    "        prompt_flow(SYSTEM_CONTENT_WITH_EXAMPLES, user_content_with_examples, t, FILENAME_FORMAT_WITH_EXAMPLES, \"with\", f_stats)"
   ],
   "metadata": {
    "collapsed": false,
    "ExecuteTime": {
     "end_time": "2024-06-16T19:41:53.657214Z",
     "start_time": "2024-06-16T19:41:49.454184Z"
    }
   },
   "id": "471d7fd1d2ec107f",
   "execution_count": 26
  },
  {
   "cell_type": "code",
   "outputs": [],
   "source": [],
   "metadata": {
    "collapsed": false
   },
   "id": "32b2c8bfddfaef47"
  }
 ],
 "metadata": {
  "kernelspec": {
   "display_name": "Python 3",
   "language": "python",
   "name": "python3"
  },
  "language_info": {
   "codemirror_mode": {
    "name": "ipython",
    "version": 2
   },
   "file_extension": ".py",
   "mimetype": "text/x-python",
   "name": "python",
   "nbconvert_exporter": "python",
   "pygments_lexer": "ipython2",
   "version": "2.7.6"
  }
 },
 "nbformat": 4,
 "nbformat_minor": 5
}
